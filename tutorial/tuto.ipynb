{
 "cells": [
  {
   "cell_type": "markdown",
   "metadata": {},
   "source": [
    "DataSet Builder Tutorial\n",
    "==\n",
    "\n",
    "The aim of this tuto is to provide an E2E example for a simple query. We will use a reduced dataset provided by SWH and apply our approach as it was the entire graph.\n",
    ">the first 3k popular repositories tagged as being written in the Python language, from GitHub, Gitlab, PyPI and Debian \n",
    "\n",
    "The correponding Date is 2021-03-23, we will take 2021-02-23 as the fingerprint timestamp.\n",
    "𝑡x=2021-03-23\n",
    "\n",
    "We consider the following query q as \n",
    "𝑞 = \"Get All the Origin having at least one file named \"README.md\" on its file hiearchy.\n",
    "\n",
    "The corresponding fingerprint is the following : \n",
    "𝐹𝑃tx = ⟨𝑡x, 𝑞⟩\n"
   ]
  },
  {
   "cell_type": "markdown",
   "metadata": {},
   "source": [
    "#### 0. Install the required dependencies "
   ]
  },
  {
   "cell_type": "code",
   "execution_count": 6,
   "metadata": {},
   "outputs": [
    {
     "name": "stdout",
     "output_type": "stream",
     "text": [
      "/home/rlefeuvr/Workspaces/SAND_BOX/test_swh/DatasetBuilder\n"
     ]
    }
   ],
   "source": [
    "%cd .."
   ]
  },
  {
   "cell_type": "code",
   "execution_count": null,
   "metadata": {},
   "outputs": [],
   "source": [
    "!sh install.sh"
   ]
  },
  {
   "cell_type": "markdown",
   "metadata": {},
   "source": [
    "#### 1. Download the graphs"
   ]
  },
  {
   "cell_type": "code",
   "execution_count": 1,
   "metadata": {},
   "outputs": [
    {
     "name": "stdout",
     "output_type": "stream",
     "text": [
      "/home/rlefeuvr/Workspaces/SAND_BOX/test_swh/DatasetBuilder\n"
     ]
    }
   ],
   "source": []
  },
  {
   "cell_type": "code",
   "execution_count": null,
   "metadata": {},
   "outputs": [],
   "source": [
    "!mkdir ./tutorial/graph\n",
    "!aws s3 cp --no-sign-request s3://softwareheritage/graph/2021-03-23-popular-3k-python/orc/origin_visit_status/ ./tutorial/graph/2021-03-23-popular-3k-python/orc/python_origin_visit_status --recursive\n",
    "!aws s3 cp --no-sign-request s3://softwareheritage/graph/2021-03-23-popular-3k-python/compressed/ ./tutorial/graph/2021-03-23-popular-3k-python/compressed --recursive"
   ]
  },
  {
   "cell_type": "markdown",
   "metadata": {},
   "source": [
    "#### 2. Design your ocl query"
   ]
  },
  {
   "cell_type": "markdown",
   "metadata": {},
   "source": [
    "Design your query based on the template, here we are selecting all the repository containing a \"README.md\" file on their master or main branch. In the tutorial we will use the query saved in ```myquery.ocl```. Basically you can create any ocl query that applies on the SWH-Graph UML model."
   ]
  },
  {
   "cell_type": "markdown",
   "metadata": {},
   "source": [
    "<img src=\"image.png\" alt=\"drawing\" style=\"width:700px;\"/>"
   ]
  },
  {
   "cell_type": "code",
   "execution_count": 17,
   "metadata": {},
   "outputs": [
    {
     "name": "stdout",
     "output_type": "stream",
     "text": [
      "Overwriting ./tutorial/myquery.ocl\n"
     ]
    }
   ],
   "source": [
    "%%file ./tutorial/myquery.ocl\n",
    "import swhModel : 'platform:/resource/fr.inria.diverse.swhModel/model/swhModel.ecore'\n",
    "package swhModel\n",
    "context Graph\n",
    "def : query():Set(Origin) = origins->select(\n",
    "\t getLastSnapshot().branches->exists(\n",
    "\t \t\t\t\t(name= 'refs/heads/master' or name= 'refs/heads/main')\n",
    "\t \t\t\t\tand\n",
    "\t\t\t\t\t/*The main branch contains a file 'AndroidManifest.xml'*/\n",
    "\t\t\t\t\tgetRevision().tree.entries->closure(entry:DirectoryEntry |\n",
    "\t\t\t\t\t\tif entry.child.oclIsKindOf(Directory) then\n",
    "\t\t\t\t\t\t\tentry.child.oclAsType(Directory).entries.oclAsSet()\n",
    "\t\t\t\t\t\telse \n",
    "\t\t\t\t\t\t\tentry.oclAsSet()\n",
    "\t\t\t\t\t\tendif\t\n",
    "\t\t\t\t\t)->exists(e:DirectoryEntry | e.name='README.md')\t\n",
    "\t)\n",
    ")\n",
    "\n",
    "\n",
    "endpackage\n"
   ]
  },
  {
   "cell_type": "markdown",
   "metadata": {},
   "source": [
    "To have LSP support you can use the gemoc studio by importing the \n",
    "```fr.inria.diverse.swhModel.queryExemple```\n",
    "and\n",
    "```fr.inria.diverse.swhModel```\n",
    "\n",
    "then modify the template.ocl"
   ]
  },
  {
   "cell_type": "markdown",
   "metadata": {},
   "source": [
    "### 3. Compile your query "
   ]
  },
  {
   "cell_type": "code",
   "execution_count": null,
   "metadata": {},
   "outputs": [],
   "source": [
    "!sh ./oclQueryCompilerLauncher.sh ./tutorial/myquery.ocl RUNNING_QUERY ./tutorial"
   ]
  },
  {
   "cell_type": "markdown",
   "metadata": {},
   "source": [
    "Now you can observe a jar in your workspace ```fr.inria.diverse.fingerprint-0.1.0.jar```"
   ]
  },
  {
   "cell_type": "markdown",
   "metadata": {},
   "source": [
    "### Execute your query"
   ]
  },
  {
   "cell_type": "markdown",
   "metadata": {},
   "source": [
    "Let's have a look on the help "
   ]
  },
  {
   "cell_type": "code",
   "execution_count": 22,
   "metadata": {},
   "outputs": [
    {
     "name": "stdout",
     "output_type": "stream",
     "text": [
      "[picocli WARN] defaults configuration file /home/rlefeuvr/Workspaces/SAND_BOX/test_swh/DatasetBuilder/./config/config.properties does not exist or is not readable\n",
      "Usage: \u001b[1mGraphQueryRunner\u001b[21m\u001b[0m [\u001b[33m-h\u001b[39m\u001b[0m] \u001b[33m-c\u001b[39m\u001b[0m=\u001b[3m<checkPointIntervalInMinutes>\u001b[23m\u001b[0m \u001b[33m-e\u001b[39m\u001b[0m=\u001b[3m<exportPath>\u001b[23m\u001b[0m\n",
      "                        \u001b[33m-g\u001b[39m\u001b[0m=\u001b[3m<graphFolderPath>\u001b[23m\u001b[0m \u001b[33m-l\u001b[39m\u001b[0m=\u001b[3m<loadingMode>\u001b[23m\u001b[0m\n",
      "                        \u001b[33m-qt\u001b[39m\u001b[0m=\u001b[3m<queryTimestamp>\u001b[23m\u001b[0m \u001b[33m-t\u001b[39m\u001b[0m=\u001b[3m<threadNumber>\u001b[23m\u001b[0m\n",
      "Execute a query over the graph property dataset\n",
      "\u001b[33m \u001b[39m\u001b[0m \u001b[33m-c\u001b[39m\u001b[0m, \u001b[33m--checkP\u001b[39m\u001b[0m\u001b[33mointIntervalInMinutes\u001b[39m\u001b[0m=\u001b[3m<checkPointIntervalInMinutes>\u001b[23m\u001b[0m\n",
      "               The time in minutes after which a checkpoint will be produced\n",
      "\u001b[33m \u001b[39m\u001b[0m \u001b[33m-e\u001b[39m\u001b[0m, \u001b[33m--export\u001b[39m\u001b[0m\u001b[33mPath\u001b[39m\u001b[0m=\u001b[3m<exportPath>\u001b[23m\u001b[0m\n",
      "               The export path, where all the queries results will be saved\n",
      "                 including checkpoints\n",
      "\u001b[33m \u001b[39m\u001b[0m \u001b[33m-g\u001b[39m\u001b[0m, \u001b[33m--graphP\u001b[39m\u001b[0m\u001b[33math\u001b[39m\u001b[0m=\u001b[3m<graphFolderPath>\u001b[23m\u001b[0m\n",
      "               The graph Folder path\n",
      "  \u001b[33m-h\u001b[39m\u001b[0m, \u001b[33m--help\u001b[39m\u001b[0m   display this help and exit\n",
      "\u001b[33m \u001b[39m\u001b[0m \u001b[33m-l\u001b[39m\u001b[0m, \u001b[33m--loadin\u001b[39m\u001b[0m\u001b[33mgMode\u001b[39m\u001b[0m=\u001b[3m<loadingMode>\u001b[23m\u001b[0m\n",
      "               The graph loading mode either MAPPED for memory mapped or RAM\n",
      "                 for ram loading\n",
      "\u001b[33m \u001b[39m\u001b[0m     \u001b[33m-qt, --q\u001b[39m\u001b[0m\u001b[33mueryTimestamp\u001b[39m\u001b[0m=\u001b[3m<queryTimestamp>\u001b[23m\u001b[0m\n",
      "               The  query Timestamp\n",
      "\u001b[33m \u001b[39m\u001b[0m \u001b[33m-t\u001b[39m\u001b[0m, \u001b[33m--thread\u001b[39m\u001b[0m\u001b[33mNumber\u001b[39m\u001b[0m=\u001b[3m<threadNumber>\u001b[23m\u001b[0m\n",
      "               The number of thread the query will use\n",
      "Romain Lefeuvre - DIVERSE team - Inria\n"
     ]
    }
   ],
   "source": [
    "!java -jar tutorial/fr.inria.diverse.fingerprint-0.1.0.jar --help"
   ]
  },
  {
   "cell_type": "code",
   "execution_count": null,
   "metadata": {},
   "outputs": [],
   "source": [
    "!java -XX:PretenureSizeThreshold=512M -Djava.io.tmpdir=../java-tmp-dir -Xmx10G --add-opens=java.base/sun.nio.ch=ALL-UNNAMED -jar ./tutorial/fr.inria.diverse.fingerprint-0.1.0.jar  -g ./tutorial/graph/2021-03-23-popular-3k-python -l MAPPED -t 14 --queryTimestamp=2021-03-23 --exportPath=./tutorial/result --checkPointIntervalInMinutes=1"
   ]
  }
 ],
 "metadata": {
  "kernelspec": {
   "display_name": "Python 3",
   "language": "python",
   "name": "python3"
  },
  "language_info": {
   "codemirror_mode": {
    "name": "ipython",
    "version": 3
   },
   "file_extension": ".py",
   "mimetype": "text/x-python",
   "name": "python",
   "nbconvert_exporter": "python",
   "pygments_lexer": "ipython3",
   "version": "3.9.7"
  },
  "orig_nbformat": 4
 },
 "nbformat": 4,
 "nbformat_minor": 2
}
