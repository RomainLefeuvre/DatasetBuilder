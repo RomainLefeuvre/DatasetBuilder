{
 "cells": [
  {
   "cell_type": "markdown",
   "metadata": {},
   "source": [
    "DataSet Builder Tutorial\n",
    "==\n",
    "\n",
    "The aim of this tuto is to provide an E2E example for a simple query. We will use a reduced dataset provided by SWH and apply our approach as it was the entire graph.\n",
    ">the first 3k popular repositories tagged as being written in the Python language, from GitHub, Gitlab, PyPI and Debian \n",
    "\n",
    "The correponding Date is 2021-03-23, we will take 2021-02-23 as the fingerprint timestamp.\n",
    "𝑡x=2021-03-23\n",
    "\n",
    "We consider the following query q as \n",
    "𝑞 = \"Get All the Origin having at least one file named \"README.md\" on its file hiearchy.\n",
    "\n",
    "The corresponding fingerprint is the following : \n",
    "𝐹𝑃tx = ⟨𝑡x, 𝑞⟩\n"
   ]
  },
  {
   "cell_type": "markdown",
   "metadata": {},
   "source": [
    "#### 0. Install the required dependencies "
   ]
  },
  {
   "cell_type": "markdown",
   "metadata": {},
   "source": [
    "The current workdir should be the root of the repository, if it's not the case run the next query"
   ]
  },
  {
   "cell_type": "code",
   "execution_count": 5,
   "metadata": {},
   "outputs": [
    {
     "name": "stdout",
     "output_type": "stream",
     "text": [
      "/home/rlefeuvr/Workspaces/SAND_BOX/test_swh/DatasetBuilder\n"
     ]
    }
   ],
   "source": [
    "%cd .."
   ]
  },
  {
   "cell_type": "code",
   "execution_count": 6,
   "metadata": {},
   "outputs": [
    {
     "name": "stdout",
     "output_type": "stream",
     "text": [
      "Installing dsi-utils\n",
      "[\u001b[1;34mINFO\u001b[m] Scanning for projects...\n",
      "[\u001b[1;34mINFO\u001b[m] \n",
      "[\u001b[1;34mINFO\u001b[m] \u001b[1m------------------< \u001b[0;36morg.apache.maven:standalone-pom\u001b[0;1m >-------------------\u001b[m\n",
      "[\u001b[1;34mINFO\u001b[m] \u001b[1mBuilding Maven Stub Project (No POM) 1\u001b[m\n",
      "[\u001b[1;34mINFO\u001b[m] \u001b[1m--------------------------------[ pom ]---------------------------------\u001b[m\n",
      "[\u001b[1;34mINFO\u001b[m] \n",
      "[\u001b[1;34mINFO\u001b[m] \u001b[1m--- \u001b[0;32mmaven-install-plugin:2.4:install-file\u001b[m \u001b[1m(default-cli)\u001b[m @ \u001b[36mstandalone-pom\u001b[0;1m ---\u001b[m\n",
      "[\u001b[1;34mINFO\u001b[m] Installing /home/rlefeuvr/Workspaces/SAND_BOX/test_swh/DatasetBuilder/thirdPartyLibrary/dsiutils/dsiutils-2.7.3-threadSafe.jar to /home/rlefeuvr/.m2/repository/it/unimi/dsi/dsiutils/2.7.3-threadSafe/dsiutils-2.7.3-threadSafe.jar\n",
      "[\u001b[1;34mINFO\u001b[m] Installing /home/rlefeuvr/Workspaces/SAND_BOX/test_swh/DatasetBuilder/thirdPartyLibrary/dsiutils/pom.xml to /home/rlefeuvr/.m2/repository/it/unimi/dsi/dsiutils/2.7.3-threadSafe/dsiutils-2.7.3-threadSafe.pom\n",
      "[\u001b[1;34mINFO\u001b[m] \u001b[1m------------------------------------------------------------------------\u001b[m\n",
      "[\u001b[1;34mINFO\u001b[m] \u001b[1;32mBUILD SUCCESS\u001b[m\n",
      "[\u001b[1;34mINFO\u001b[m] \u001b[1m------------------------------------------------------------------------\u001b[m\n",
      "[\u001b[1;34mINFO\u001b[m] Total time:  0.363 s\n",
      "[\u001b[1;34mINFO\u001b[m] Finished at: 2023-10-16T10:55:02+02:00\n",
      "[\u001b[1;34mINFO\u001b[m] \u001b[1m------------------------------------------------------------------------\u001b[m\n",
      "Installing swh-graph\n",
      "[\u001b[1;34mINFO\u001b[m] Scanning for projects...\n",
      "[\u001b[1;34mINFO\u001b[m] \n",
      "[\u001b[1;34mINFO\u001b[m] \u001b[1m------------------< \u001b[0;36morg.apache.maven:standalone-pom\u001b[0;1m >-------------------\u001b[m\n",
      "[\u001b[1;34mINFO\u001b[m] \u001b[1mBuilding Maven Stub Project (No POM) 1\u001b[m\n",
      "[\u001b[1;34mINFO\u001b[m] \u001b[1m--------------------------------[ pom ]---------------------------------\u001b[m\n",
      "[\u001b[1;34mINFO\u001b[m] \n",
      "[\u001b[1;34mINFO\u001b[m] \u001b[1m--- \u001b[0;32mmaven-install-plugin:2.4:install-file\u001b[m \u001b[1m(default-cli)\u001b[m @ \u001b[36mstandalone-pom\u001b[0;1m ---\u001b[m\n",
      "[\u001b[1;34mINFO\u001b[m] Installing /home/rlefeuvr/Workspaces/SAND_BOX/test_swh/DatasetBuilder/thirdPartyLibrary/swh-graph/swh-graph-2.2.0-threadSafe.jar to /home/rlefeuvr/.m2/repository/org/softwareheritage/graph/swh-graph/2.2.0-threadSafe/swh-graph-2.2.0-threadSafe.jar\n",
      "[\u001b[1;34mINFO\u001b[m] Installing /home/rlefeuvr/Workspaces/SAND_BOX/test_swh/DatasetBuilder/thirdPartyLibrary/swh-graph/pom.xml to /home/rlefeuvr/.m2/repository/org/softwareheritage/graph/swh-graph/2.2.0-threadSafe/swh-graph-2.2.0-threadSafe.pom\n",
      "[\u001b[1;34mINFO\u001b[m] \u001b[1m------------------------------------------------------------------------\u001b[m\n",
      "[\u001b[1;34mINFO\u001b[m] \u001b[1;32mBUILD SUCCESS\u001b[m\n",
      "[\u001b[1;34mINFO\u001b[m] \u001b[1m------------------------------------------------------------------------\u001b[m\n",
      "[\u001b[1;34mINFO\u001b[m] Total time:  0.297 s\n",
      "[\u001b[1;34mINFO\u001b[m] Finished at: 2023-10-16T10:55:03+02:00\n",
      "[\u001b[1;34mINFO\u001b[m] \u001b[1m------------------------------------------------------------------------\u001b[m\n"
     ]
    }
   ],
   "source": [
    "!sh install.sh"
   ]
  },
  {
   "cell_type": "markdown",
   "metadata": {},
   "source": [
    "#### 1. Download the graphs"
   ]
  },
  {
   "cell_type": "markdown",
   "metadata": {},
   "source": [
    "Install aws s3 to download the graph , https://aws.amazon.com/cli/"
   ]
  },
  {
   "cell_type": "code",
   "execution_count": 8,
   "metadata": {},
   "outputs": [],
   "source": [
    "!conda env export >environment.yml"
   ]
  },
  {
   "cell_type": "code",
   "execution_count": 7,
   "metadata": {},
   "outputs": [
    {
     "name": "stdout",
     "output_type": "stream",
     "text": [
      "Collecting awscli\n",
      "  Downloading awscli-1.29.63-py3-none-any.whl.metadata (11 kB)\n",
      "Collecting botocore==1.31.63 (from awscli)\n",
      "  Downloading botocore-1.31.63-py3-none-any.whl.metadata (6.1 kB)\n",
      "Collecting docutils<0.17,>=0.10 (from awscli)\n",
      "  Downloading docutils-0.16-py2.py3-none-any.whl (548 kB)\n",
      "\u001b[2K     \u001b[38;2;114;156;31m━━━━━━━━━━━━━━━━━━━━━━━━━━━━━━━━━━━━━━━\u001b[0m \u001b[32m548.2/548.2 kB\u001b[0m \u001b[31m8.4 MB/s\u001b[0m eta \u001b[36m0:00:00\u001b[0m MB/s\u001b[0m eta \u001b[36m0:00:01\u001b[0m\n",
      "\u001b[?25hCollecting s3transfer<0.8.0,>=0.7.0 (from awscli)\n",
      "  Downloading s3transfer-0.7.0-py3-none-any.whl.metadata (1.8 kB)\n",
      "Collecting PyYAML<6.1,>=3.10 (from awscli)\n",
      "  Downloading PyYAML-6.0.1-cp310-cp310-manylinux_2_17_x86_64.manylinux2014_x86_64.whl.metadata (2.1 kB)\n",
      "Collecting colorama<0.4.5,>=0.2.5 (from awscli)\n",
      "  Downloading colorama-0.4.4-py2.py3-none-any.whl (16 kB)\n",
      "Collecting rsa<4.8,>=3.1.2 (from awscli)\n",
      "  Downloading rsa-4.7.2-py3-none-any.whl (34 kB)\n",
      "Collecting jmespath<2.0.0,>=0.7.1 (from botocore==1.31.63->awscli)\n",
      "  Downloading jmespath-1.0.1-py3-none-any.whl (20 kB)\n",
      "Requirement already satisfied: python-dateutil<3.0.0,>=2.1 in /home/rlefeuvr/.local/lib/python3.10/site-packages (from botocore==1.31.63->awscli) (2.8.2)\n",
      "Collecting urllib3<2.1,>=1.25.4 (from botocore==1.31.63->awscli)\n",
      "  Downloading urllib3-2.0.6-py3-none-any.whl.metadata (6.6 kB)\n",
      "Collecting pyasn1>=0.1.3 (from rsa<4.8,>=3.1.2->awscli)\n",
      "  Downloading pyasn1-0.5.0-py2.py3-none-any.whl (83 kB)\n",
      "\u001b[2K     \u001b[38;2;114;156;31m━━━━━━━━━━━━━━━━━━━━━━━━━━━━━━━━━━━━━━━━\u001b[0m \u001b[32m83.9/83.9 kB\u001b[0m \u001b[31m18.1 MB/s\u001b[0m eta \u001b[36m0:00:00\u001b[0m\n",
      "\u001b[?25hRequirement already satisfied: six>=1.5 in ./.conda/lib/python3.10/site-packages (from python-dateutil<3.0.0,>=2.1->botocore==1.31.63->awscli) (1.16.0)\n",
      "Downloading awscli-1.29.63-py3-none-any.whl (4.3 MB)\n",
      "\u001b[2K   \u001b[38;2;114;156;31m━━━━━━━━━━━━━━━━━━━━━━━━━━━━━━━━━━━━━━━━\u001b[0m \u001b[32m4.3/4.3 MB\u001b[0m \u001b[31m34.9 MB/s\u001b[0m eta \u001b[36m0:00:00\u001b[0m MB/s\u001b[0m eta \u001b[36m0:00:01\u001b[0m:01\u001b[0m\n",
      "\u001b[?25hDownloading botocore-1.31.63-py3-none-any.whl (11.3 MB)\n",
      "\u001b[2K   \u001b[38;2;114;156;31m━━━━━━━━━━━━━━━━━━━━━━━━━━━━━━━━━━━━━━━━\u001b[0m \u001b[32m11.3/11.3 MB\u001b[0m \u001b[31m12.2 MB/s\u001b[0m eta \u001b[36m0:00:00\u001b[0mm eta \u001b[36m0:00:01\u001b[0m0:01\u001b[0m:01\u001b[0m\n",
      "\u001b[?25hDownloading PyYAML-6.0.1-cp310-cp310-manylinux_2_17_x86_64.manylinux2014_x86_64.whl (705 kB)\n",
      "\u001b[2K   \u001b[38;2;114;156;31m━━━━━━━━━━━━━━━━━━━━━━━━━━━━━━━━━━━━━━━━\u001b[0m \u001b[32m705.5/705.5 kB\u001b[0m \u001b[31m10.5 MB/s\u001b[0m eta \u001b[36m0:00:00\u001b[0m MB/s\u001b[0m eta \u001b[36m0:00:01\u001b[0m\n",
      "\u001b[?25hDownloading s3transfer-0.7.0-py3-none-any.whl (79 kB)\n",
      "\u001b[2K   \u001b[38;2;114;156;31m━━━━━━━━━━━━━━━━━━━━━━━━━━━━━━━━━━━━━━━━\u001b[0m \u001b[32m79.8/79.8 kB\u001b[0m \u001b[31m10.8 MB/s\u001b[0m eta \u001b[36m0:00:00\u001b[0m\n",
      "\u001b[?25hDownloading urllib3-2.0.6-py3-none-any.whl (123 kB)\n",
      "\u001b[2K   \u001b[38;2;114;156;31m━━━━━━━━━━━━━━━━━━━━━━━━━━━━━━━━━━━━━━━━\u001b[0m \u001b[32m123.8/123.8 kB\u001b[0m \u001b[31m12.7 MB/s\u001b[0m eta \u001b[36m0:00:00\u001b[0m\n",
      "\u001b[?25hInstalling collected packages: urllib3, PyYAML, pyasn1, jmespath, docutils, colorama, rsa, botocore, s3transfer, awscli\n",
      "Successfully installed PyYAML-6.0.1 awscli-1.29.63 botocore-1.31.63 colorama-0.4.4 docutils-0.16 jmespath-1.0.1 pyasn1-0.5.0 rsa-4.7.2 s3transfer-0.7.0 urllib3-2.0.6\n",
      "\u001b[33mWARNING: There was an error checking the latest version of pip.\u001b[0m\u001b[33m\n",
      "\u001b[0m"
     ]
    }
   ],
   "source": [
    "!pip3 install awscli --upgrade --user"
   ]
  },
  {
   "cell_type": "code",
   "execution_count": null,
   "metadata": {},
   "outputs": [],
   "source": [
    "!mkdir ./tutorial/graph\n",
    "!aws s3 cp --no-sign-request s3://softwareheritage/graph/2021-03-23-popular-3k-python/orc/origin_visit_status/ ./tutorial/graph/2021-03-23-popular-3k-python/orc/python_origin_visit_status --recursive\n",
    "!aws s3 cp --no-sign-request s3://softwareheritage/graph/2021-03-23-popular-3k-python/compressed/ ./tutorial/graph/2021-03-23-popular-3k-python/compressed --recursive"
   ]
  },
  {
   "cell_type": "markdown",
   "metadata": {},
   "source": [
    "#### 2. Design your ocl query"
   ]
  },
  {
   "cell_type": "markdown",
   "metadata": {},
   "source": [
    "Design your query based on the template, here we are selecting all the repository containing a \"README.md\" file on their master or main branch. In the tutorial we will use the query saved in ```myquery.ocl```. Basically you can create any ocl query that applies on the SWH-Graph UML model."
   ]
  },
  {
   "cell_type": "markdown",
   "metadata": {},
   "source": [
    "<img src=\"image.png\" alt=\"drawing\" style=\"width:700px;\"/>"
   ]
  },
  {
   "cell_type": "code",
   "execution_count": 23,
   "metadata": {},
   "outputs": [
    {
     "name": "stdout",
     "output_type": "stream",
     "text": [
      "Writing ./tutorial/myquery.ocl\n"
     ]
    }
   ],
   "source": [
    "%%file ./tutorial/myquery.ocl\n",
    "import swhModel : 'platform:/resource/fr.inria.diverse.swhModel/model/swhModel.ecore'\n",
    "package swhModel\n",
    "context Graph\n",
    "def : query():Set(Snapshot) = origins->select(\n",
    "\t getLastSnapshot().branches->exists(\n",
    "\t \t\t\t\t(name= 'refs/heads/master' or name= 'refs/heads/main')\n",
    "\t \t\t\t\tand\n",
    "\t\t\t\t\t/*The main branch contains a file 'README.md'*/\n",
    "\t\t\t\t\tgetRevision().tree.entries->closure(entry:DirectoryEntry |\n",
    "\t\t\t\t\t\tif entry.child.oclIsKindOf(Directory) then\n",
    "\t\t\t\t\t\t\tentry.child.oclAsType(Directory).entries.oclAsSet()\n",
    "\t\t\t\t\t\telse \n",
    "\t\t\t\t\t\t\tentry.oclAsSet()\n",
    "\t\t\t\t\t\tendif\t\n",
    "\t\t\t\t\t)->exists(e:DirectoryEntry | e.name='README.md')\t\n",
    "\t)\n",
    ")\n",
    "\n",
    "\n",
    "endpackage\n"
   ]
  },
  {
   "cell_type": "markdown",
   "metadata": {},
   "source": [
    "To have LSP support you can use the gemoc studio by importing the \n",
    "```fr.inria.diverse.swhModel.queryExemple```\n",
    "and\n",
    "```fr.inria.diverse.swhModel```\n",
    "\n",
    "then modify the template.ocl\n",
    "\n",
    "NB: The completion is not fully functional"
   ]
  },
  {
   "cell_type": "markdown",
   "metadata": {},
   "source": [
    "### 3. Compile your query "
   ]
  },
  {
   "cell_type": "code",
   "execution_count": null,
   "metadata": {},
   "outputs": [],
   "source": [
    "!sh ./oclQueryCompilerLauncher.sh ./tutorial/myquery.ocl RUNNING_QUERY ./tutorial"
   ]
  },
  {
   "cell_type": "markdown",
   "metadata": {},
   "source": [
    "Now you can observe a jar in your workspace ```fr.inria.diverse.fingerprint-0.1.0.jar```"
   ]
  },
  {
   "cell_type": "markdown",
   "metadata": {},
   "source": [
    "### Execute your query"
   ]
  },
  {
   "cell_type": "markdown",
   "metadata": {},
   "source": [
    "Let's have a look on the help "
   ]
  },
  {
   "cell_type": "code",
   "execution_count": 39,
   "metadata": {},
   "outputs": [
    {
     "name": "stdout",
     "output_type": "stream",
     "text": [
      "[picocli WARN] defaults configuration file /home/rlefeuvr/Workspaces/SAND_BOX/test_swh/DatasetBuilder/./config/config.properties does not exist or is not readable\n",
      "Usage: \u001b[1mGraphQueryRunner\u001b[21m\u001b[0m [\u001b[33m-h\u001b[39m\u001b[0m] [\u001b[33m-c\u001b[39m\u001b[0m=\u001b[3m<checkPointIntervalInMinutes>\u001b[23m\u001b[0m]\n",
      "                        [\u001b[33m-e\u001b[39m\u001b[0m=\u001b[3m<exportPath>\u001b[23m\u001b[0m] \u001b[33m-g\u001b[39m\u001b[0m=\u001b[3m<graphFolderPath>\u001b[23m\u001b[0m\n",
      "                        [\u001b[33m-l\u001b[39m\u001b[0m=\u001b[3m<loadingMode>\u001b[23m\u001b[0m] [\u001b[33m-qt\u001b[39m\u001b[0m=\u001b[3m<queryTimestamp>\u001b[23m\u001b[0m]\n",
      "                        [\u001b[33m-t\u001b[39m\u001b[0m=\u001b[3m<threadNumber>\u001b[23m\u001b[0m]\n",
      "Execute a query over the graph property dataset\n",
      "  \u001b[33m-c\u001b[39m\u001b[0m, \u001b[33m--checkP\u001b[39m\u001b[0m\u001b[33mointIntervalInMinutes\u001b[39m\u001b[0m=\u001b[3m<checkPointIntervalInMinutes>\u001b[23m\u001b[0m\n",
      "               The time in minutes after which a checkpoint will be produced\n",
      "  \u001b[33m-e\u001b[39m\u001b[0m, \u001b[33m--export\u001b[39m\u001b[0m\u001b[33mPath\u001b[39m\u001b[0m=\u001b[3m<exportPath>\u001b[23m\u001b[0m\n",
      "               The export path, where all the queries results will be saved\n",
      "                 including checkpoints\n",
      "\u001b[33m \u001b[39m\u001b[0m \u001b[33m-g\u001b[39m\u001b[0m, \u001b[33m--graphP\u001b[39m\u001b[0m\u001b[33math\u001b[39m\u001b[0m=\u001b[3m<graphFolderPath>\u001b[23m\u001b[0m\n",
      "               The graph Folder path\n",
      "  \u001b[33m-h\u001b[39m\u001b[0m, \u001b[33m--help\u001b[39m\u001b[0m   display this help and exit\n",
      "  \u001b[33m-l\u001b[39m\u001b[0m, \u001b[33m--loadin\u001b[39m\u001b[0m\u001b[33mgMode\u001b[39m\u001b[0m=\u001b[3m<loadingMode>\u001b[23m\u001b[0m\n",
      "               The graph loading mode either MAPPED for memory mapped or RAM\n",
      "                 for ram loading\n",
      "      \u001b[33m-qt, --q\u001b[39m\u001b[0m\u001b[33mueryTimestamp\u001b[39m\u001b[0m=\u001b[3m<queryTimestamp>\u001b[23m\u001b[0m\n",
      "               The  query Timestamp\n",
      "  \u001b[33m-t\u001b[39m\u001b[0m, \u001b[33m--thread\u001b[39m\u001b[0m\u001b[33mNumber\u001b[39m\u001b[0m=\u001b[3m<threadNumber>\u001b[23m\u001b[0m\n",
      "               The number of thread the query will use\n",
      "Romain Lefeuvre - DIVERSE team - Inria\n"
     ]
    }
   ],
   "source": [
    "!java -jar tutorial/fr.inria.diverse.fingerprint-0.1.0.jar --help"
   ]
  },
  {
   "cell_type": "code",
   "execution_count": null,
   "metadata": {},
   "outputs": [],
   "source": [
    "!java -XX:PretenureSizeThreshold=512M -Djava.io.tmpdir=../java-tmp-dir -Xmx10G --add-opens=java.base/sun.nio.ch=ALL-UNNAMED -jar ./tutorial/fr.inria.diverse.fingerprint-0.1.0.jar  -g ./tutorial/graph/2021-03-23-popular-3k-python -l MAPPED -t 14 --queryTimestamp=2021-03-23 --exportPath=./tutorial/result --checkPointIntervalInMinutes=1"
   ]
  },
  {
   "cell_type": "code",
   "execution_count": 44,
   "metadata": {},
   "outputs": [],
   "source": [
    "##Todo Investigate the exception raised for one origin, no impact on the others"
   ]
  },
  {
   "cell_type": "markdown",
   "metadata": {},
   "source": [
    "You can now process the results, origin_url_snap_swhid.json contains the list of origins url that match the query as well as the snapshots ids present in the current version of the graph "
   ]
  }
 ],
 "metadata": {
  "kernelspec": {
   "display_name": "Python 3",
   "language": "python",
   "name": "python3"
  },
  "language_info": {
   "codemirror_mode": {
    "name": "ipython",
    "version": 3
   },
   "file_extension": ".py",
   "mimetype": "text/x-python",
   "name": "python",
   "nbconvert_exporter": "python",
   "pygments_lexer": "ipython3",
   "version": "3.10.12"
  },
  "orig_nbformat": 4
 },
 "nbformat": 4,
 "nbformat_minor": 2
}
